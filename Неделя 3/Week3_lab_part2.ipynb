{
 "cells": [
  {
   "cell_type": "code",
   "execution_count": 1,
   "id": "a8305f1f",
   "metadata": {},
   "outputs": [],
   "source": [
    "%matplotlib inline\n",
    "from pylab import *"
   ]
  },
  {
   "cell_type": "code",
   "execution_count": 2,
   "id": "0e043a34",
   "metadata": {},
   "outputs": [
    {
     "name": "stdout",
     "output_type": "stream",
     "text": [
      "pi= [[0.61603236]\n",
      " [0.25519243]\n",
      " [0.12877521]]\n"
     ]
    }
   ],
   "source": [
    "from scipy.linalg import solve\n",
    "# To use solve, you can have a look at\n",
    "# https://docs.scipy.org/doc/scipy/reference/tutorial/linalg.html#solving-linear-system\n",
    "T = 1\n",
    "_lambda = 1.5\n",
    "a   = _lambda*T\n",
    "e_a = exp(-a)\n",
    "A   = array([[e_a,  a*e_a-1, a**2/2*e_a],\n",
    "            [0,     e_a,     (1+a)*e_a-1],\n",
    "            [1,     1,       1      ]])\n",
    "####################################\n",
    "# give the expression of the steady-state distribution\n",
    "pi = solve(A, array([[0], [0], [1]]))\n",
    "print('pi=',pi)\n",
    "####################################\n",
    "\n",
    "#----------\n",
    "V1 = pi[2]\n"
   ]
  },
  {
   "cell_type": "code",
   "execution_count": 3,
   "id": "65f38c0e",
   "metadata": {},
   "outputs": [],
   "source": [
    "#######################\n",
    "# Enter P_loss_token\n",
    "P_loss_token = pi[2] * e_a\n",
    "#######################\n",
    "V2 = P_loss_token"
   ]
  },
  {
   "cell_type": "code",
   "execution_count": 5,
   "id": "d80cbcf4",
   "metadata": {},
   "outputs": [],
   "source": [
    "#######################\n",
    "# Enter P_loss_client\n",
    "\n",
    "P_loss_client = (_lambda- (1 - P_loss_token)/T)/_lambda\n",
    "#######################\n",
    "V3 = P_loss_client"
   ]
  },
  {
   "cell_type": "code",
   "execution_count": 6,
   "id": "ba27bd3b",
   "metadata": {},
   "outputs": [
    {
     "name": "stdout",
     "output_type": "stream",
     "text": [
      "Estimated clients loss probability =  0.34959839357429723\n"
     ]
    },
    {
     "data": {
      "image/png": "[encoded data removed]",
      "text/plain": [
       "<Figure size 864x288 with 2 Axes>"
      ]
     },
     "metadata": {
      "needs_background": "light"
     },
     "output_type": "display_data"
    }
   ],
   "source": [
    "_lambda     = 1.5  # intensity of clients arrivals at the bucket\n",
    "T     = 1.   # generation period of tokens\n",
    "Bsize = 3    # bucket size \n",
    "\n",
    "def token_bucket(x0=1, Tmax=100):\n",
    "    x       = [x0]  # bucket states at instants 0, t_1, t_2, ... \n",
    "                    # (just after the production of tokens)\n",
    "    x_aux   = x[-1] # bucket state between t_n and t_{n+1}\n",
    "    y       = []    # clients indicator: 1 --> enter the system, 0-->rejected)\n",
    "                    # y permits\n",
    "    t       = [(-1/_lambda)*log(rand())] # times of client arrivals\n",
    "    n       = 0     # number of elapsed intervals of duration T\n",
    "    while t[-1]<Tmax:\n",
    "        # generate tokens until next client arrival:\n",
    "        while t[-1]> n*T+T:\n",
    "            n +=1 # increment time index\n",
    "            # update the bucket state (add a new token in the bucket \n",
    "            # if it is not full yet):\n",
    "            x.append(minimum(x_aux+1,Bsize))\n",
    "            x_aux = x[-1]\n",
    "        # check whether the new client enters the system or not:\n",
    "        if x_aux>0: # the new client enters the system\n",
    "            x_aux = x_aux-1\n",
    "            y.append(1)\n",
    "        else:       # the new client is rejected\n",
    "            y.append(0)\n",
    "        ####################################\n",
    "        # generate time of arrival of a new client:\n",
    "        t.append(t[-1] + (-1/_lambda)*log(rand()))\n",
    "        ####################################   \n",
    "    t = t[:-1] # discard time of arrival > Tmax\n",
    "    return x, y, t\n",
    "\n",
    "x, y, t = token_bucket()\n",
    "figure(figsize=(12,4))\n",
    "subplot(121)\n",
    "step(T*arange(len(x)),x)\n",
    "axis(ymin=0,ymax=4)\n",
    "yticks([1,2,3],[1,2,3])\n",
    "title(\"Bucket state\")\n",
    "subplot(122)\n",
    "plot(t,y,'r.')\n",
    "axis(ymin=-.5,ymax=1.5)\n",
    "yticks([0,1],[0,1])\n",
    "title(\"Clients acceptation (0: discarded, 1: accepted)\")\n",
    "\n",
    "#------\n",
    "x,y,t = token_bucket(Tmax=10**4)\n",
    "#########################\n",
    "# Supply the estimate of clients loss probability\n",
    "V4    = 1 - sum(y)/len(y)\n",
    "#########################\n",
    "print(\"Estimated clients loss probability = \",V4)"
   ]
  },
  {
   "cell_type": "code",
   "execution_count": 7,
   "id": "75274855",
   "metadata": {},
   "outputs": [
    {
     "name": "stdout",
     "output_type": "stream",
     "text": [
      "----------------------------------------------------\n",
      "VALIDITY OF RESULTS SUPPLIED FOR WEEK III - Part II:\n",
      "----------------------------------------------------\n",
      "V1 :  OK\n",
      "V2 :  OK\n",
      "V3 :  OK\n",
      "V4 :  OK\n"
     ]
    }
   ],
   "source": [
    "print(\"----------------------------------------------------\\n\"\n",
    "      +\"VALIDITY OF RESULTS SUPPLIED FOR WEEK III - Part II:\\n\"\n",
    "      +\"----------------------------------------------------\")\n",
    "results  = dict()\n",
    "for k in range(1,5):\n",
    "    results[\"V\"+str(k)] = \"NO\"\n",
    "try: \n",
    "    if abs(V1-.13)<.01:    results[\"V1\"] =  \"OK\"\n",
    "except: pass\n",
    "try: \n",
    "    if abs(V2-.029)<.001:  results[\"V2\"] =  \"OK\"\n",
    "except: pass\n",
    "try: \n",
    "    if abs(V3-.35)<.01:    results[\"V3\"] =  \"OK\"\n",
    "except: pass\n",
    "try: \n",
    "    if abs(V4-.35)<.02:     results[\"V4\"] =  \"OK\"\n",
    "except: pass\n",
    "\n",
    "for key,val in results.items():\n",
    "    print(key,': ',val)"
   ]
  },
  {
   "cell_type": "code",
   "execution_count": null,
   "id": "3aee500b",
   "metadata": {},
   "outputs": [],
   "source": []
  }
 ],
 "metadata": {
  "kernelspec": {
   "display_name": "Python 3 (ipykernel)",
   "language": "python",
   "name": "python3"
  },
  "language_info": {
   "codemirror_mode": {
    "name": "ipython",
    "version": 3
   },
   "file_extension": ".py",
   "mimetype": "text/x-python",
   "name": "python",
   "nbconvert_exporter": "python",
   "pygments_lexer": "ipython3",
   "version": "3.9.12"
  }
 },
 "nbformat": 4,
 "nbformat_minor": 5
}
