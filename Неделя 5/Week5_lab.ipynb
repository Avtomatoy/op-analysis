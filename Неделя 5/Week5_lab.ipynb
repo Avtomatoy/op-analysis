{
 "cells": [
  {
   "cell_type": "code",
   "execution_count": 1,
   "id": "4c0d323d",
   "metadata": {},
   "outputs": [],
   "source": [
    "%matplotlib inline              \n",
    "from pylab import *"
   ]
  },
  {
   "cell_type": "code",
   "execution_count": 2,
   "id": "94a80005",
   "metadata": {},
   "outputs": [],
   "source": [
    "# Calculation of the stationary distribution of an M/M/C/C\n",
    "def p(rho,C):\n",
    "    pi_   = ones(C+1)\n",
    "    for k in range(C):\n",
    "        #####################\n",
    "        # supply the expression of pi_[k+1]\n",
    "        # in terms of pi_[k]\n",
    "        pi_[k+1] = rho**(k + 1) * pi_[0] / math.factorial(k + 1)\n",
    "        #####################\n",
    "    pi_ = pi_/sum(pi_)\n",
    "    return pi_\n",
    "\n",
    "#----------\n",
    "V1 = p(1,4)[0]"
   ]
  },
  {
   "cell_type": "code",
   "execution_count": 3,
   "id": "06d76a56",
   "metadata": {},
   "outputs": [],
   "source": [
    "#############\n",
    "# Complete the code of Erlang B formula \n",
    "def Eb(rho,C):\n",
    "    numerator = rho**C / math.factorial(C)\n",
    "    denominator = sum([rho**i / math.factorial(i) for i in range(C+1)])\n",
    "    return numerator / denominator\n",
    "#############\n",
    "lambda_, mu, C = 1., 1., 4\n",
    "V2 = Eb(lambda_/mu,C)"
   ]
  },
  {
   "cell_type": "code",
   "execution_count": 4,
   "id": "1ea865be",
   "metadata": {},
   "outputs": [
    {
     "data": {
      "application/vnd.jupyter.widget-view+json": {
       "model_id": "510b26c44a74411d8295ec4735cffca1",
       "version_major": 2,
       "version_minor": 0
      },
      "text/plain": [
       "interactive(children=(IntSlider(value=5, description='C', max=10, min=1), Output()), _dom_classes=('widget-int…"
      ]
     },
     "metadata": {},
     "output_type": "display_data"
    }
   ],
   "source": [
    "from ipywidgets import *\n",
    "rcParams['figure.figsize'] = 10,7\n",
    "def plt_Eb(C):\n",
    "    # plot of rho -->Eb(rho,c)\n",
    "    C_max   = 20\n",
    "    rho_max = 4\n",
    "    ymin    = 1.0e-7\n",
    "    ymax    = 60\n",
    "    rho     = linspace(0,rho_max,100)\n",
    "\n",
    "    plot(rho, [100*Eb(r,C) for r in rho])\n",
    "    grid('on')\n",
    "    xlabel(r\"Offered Load $\\rho$\", fontsize=20)\n",
    "    ylabel(r\"$E_B (\\%)$\", fontsize=20)\n",
    "    title(\"Loss probability\", fontsize=20)\n",
    "    def point_loss(x,y,color,label):\n",
    "        # point rho=x and loss_probability=y%\n",
    "        semilogy(x,y,'o',color=color,label=label)\n",
    "        semilogy((0,rho_max),(y,y),'r',linewidth=.4)\n",
    "    semilogy((1,1),(ymin,ymax),'r',linewidth=.4)     \n",
    "    # point of loss probability 1%\n",
    "    point_loss(1,3,color='b',label=r'$E_B=3\\%$')\n",
    "    point_loss(1,.5,color='g',label=r'$E_B=0.5\\%$')\n",
    "    legend(fontsize=20)\n",
    "    axis(xmin=0,xmax=rho_max,ymin=ymin,ymax=ymax)\n",
    "    show()\n",
    "\n",
    "# interactive plot of rho -->Eb(rho,c) for varying c\n",
    "interact(plt_Eb, C=(1,10,1))\n",
    "\n",
    "#######################\n",
    "# supply the minimum values of C such that Eb<3% and Eb<.5%\n",
    "V3 = 4   # min value of C such that Eb(1,C)<3%\n",
    "V4 = 5   # min value of C such that Eb(1,C)<.5%\n",
    "#######################"
   ]
  },
  {
   "cell_type": "code",
   "execution_count": 5,
   "id": "afcfe612",
   "metadata": {},
   "outputs": [
    {
     "data": {
      "text/plain": [
       "array([[-3.,  2.,  0.,  0.,  1.,  0.,  0.,  0.,  0.,  0.],\n",
       "       [ 1., -4.,  2.,  0.,  0.,  1.,  0.,  0.,  0.,  0.],\n",
       "       [ 0.,  2., -5.,  2.,  0.,  0.,  1.,  0.,  0.,  0.],\n",
       "       [ 0.,  0.,  3., -4.,  0.,  0.,  1.,  0.,  0.,  0.],\n",
       "       [ 1.,  0.,  0.,  0., -4.,  2.,  0.,  1.,  0.,  0.],\n",
       "       [ 0.,  1.,  0.,  0.,  1., -5.,  2.,  0.,  1.,  0.],\n",
       "       [ 0.,  0.,  1.,  0.,  0.,  2., -4.,  0.,  1.,  0.],\n",
       "       [ 0.,  0.,  0.,  0.,  2.,  0.,  0., -5.,  2.,  1.],\n",
       "       [ 0.,  0.,  0.,  0.,  0.,  2.,  0.,  1., -4.,  1.],\n",
       "       [ 0.,  0.,  0.,  0.,  0.,  0.,  0.,  3.,  0., -3.]])"
      ]
     },
     "execution_count": 5,
     "metadata": {},
     "output_type": "execute_result"
    }
   ],
   "source": [
    "def ab_to_i(a,b):\n",
    "    # index conversion (a,b)-->i\n",
    "    # (a,b) stands for the state (N,N') \n",
    "    # and i for the corresponding line or column index of Q\n",
    "    # note that matrix and state pairs indexing begin at 0\n",
    "    return int(a*(C+1)-a*(a-1)/2 + b)\n",
    "\n",
    "def matQ(lambda_s,mu,lambda_o,C):\n",
    "    # building Q\n",
    "    s = int((C+1)**2-C*(C+1)/2)\n",
    "    Q = zeros(shape=(s,s))\n",
    "    for a in range(C+1):       # loop over N\n",
    "        for b in range(C+1-a): # loop over N'\n",
    "            i = ab_to_i(a,b)   # corresponding index in the matrix Q\n",
    "            if b>0: # transition (a,b)-->(a,b-1)\n",
    "                Q[i,ab_to_i(a,b-1)]     = b*mu \n",
    "            if a>0: # transition (a,b)-->(a-1,b)\n",
    "                Q[i,ab_to_i(a-1,b)]     = a*mu \n",
    "            if b<C-a: # transition (a,b)-->(a,b+1)\n",
    "                Q[i,ab_to_i(a,b+1)]     = lambda_o \n",
    "                if i<s-1: # transition (a,b)-->(a+1,b)\n",
    "                    Q[i,ab_to_i(a+1,b)] = lambda_s \n",
    "            elif i<s-1: # transition (a,C-a)-->(a+1,C-a-1)\n",
    "                Q[i,ab_to_i(a+1,b-1)]   = lambda_s      \n",
    "            ############################\n",
    "            # Supply the value of Q[i,i]\n",
    "            Q[i,i] = 0 - sum(Q[i,:])  # setting constraint sum(Q[i,:])=0\n",
    "            ############################\n",
    "    return Q\n",
    "\n",
    "lambda_s,mu,lambda_o,C = 1,1,2,3\n",
    "matQ(lambda_s,mu,lambda_o,C)"
   ]
  },
  {
   "cell_type": "code",
   "execution_count": 6,
   "id": "514fce03",
   "metadata": {},
   "outputs": [],
   "source": [
    "from scipy.linalg import lstsq"
   ]
  },
  {
   "cell_type": "code",
   "execution_count": 7,
   "id": "12c65c39",
   "metadata": {},
   "outputs": [
    {
     "name": "stdout",
     "output_type": "stream",
     "text": [
      "The blocking probability for N  is 0.015\n",
      "Erlang B formula yields Eb( 1.0 , 4 ) = 0.015\n",
      "The blocking probability for N' is 0.206\n"
     ]
    }
   ],
   "source": [
    "set_printoptions(precision=4)\n",
    "lambda_s,mu,lambda_o,C = 1,1,2,4\n",
    "A     = matQ(lambda_s,mu,lambda_o,C).T\n",
    "m,n   = A.shape\n",
    "A     = vstack((A,ones(n))) # adding constraint sum(pi[i])=1\n",
    "b     = zeros(m+1)\n",
    "b[-1] = 1\n",
    "# solves equations pi.Q=0 and normalization condition\n",
    "pi_Q  = lstsq(A,b)[0] \n",
    "##########################\n",
    "# supply the blocking probability for for suscribers \n",
    "# and occasional users\n",
    "def blocking(pi_Q,C):\n",
    "    #returns blocking probability for suscribers (P_s)\n",
    "    # and occasional users (P_o)\n",
    "    # blocking probability = P(all servers busy) = Pi_c\n",
    "    # 0 1 2 3 4\n",
    "    # 5 6 7 8\n",
    "    # 9 10 11\n",
    "    # 12 13\n",
    "    # 14\n",
    "    # sum all states where all servers are busy with only subscribing users aka state 14\n",
    "    P_s = pi_Q[-1] \n",
    "    # sum all states where all servers are busy (N + N' = C)\n",
    "    temp = C\n",
    "    tot = C\n",
    "    P_o = 0\n",
    "    while temp >= 0:\n",
    "        P_o += pi_Q[tot]\n",
    "        tot = tot + temp\n",
    "        temp = temp - 1\n",
    "    return P_s, P_o\n",
    "##########################\n",
    "V5,V6 = blocking(pi_Q,C)\n",
    "print(\"The blocking probability for N  is %.3f\" %V5)\n",
    "print('Erlang B formula yields Eb(',lambda_s/mu,',',C,\n",
    "                          ') = %.3f' %Eb(lambda_s/mu,C))\n",
    "print(\"The blocking probability for N' is %.3f\" %V6)"
   ]
  },
  {
   "cell_type": "code",
   "execution_count": 8,
   "id": "148b79cb",
   "metadata": {},
   "outputs": [
    {
     "data": {
      "text/plain": [
       "Text(0, 0.5, 'Blocking probability')"
      ]
     },
     "execution_count": 8,
     "metadata": {},
     "output_type": "execute_result"
    },
    {
     "data": {
      "image/png": "[encoded data removed]",
      "text/plain": [
       "<Figure size 864x648 with 1 Axes>"
      ]
     },
     "metadata": {
      "needs_background": "light"
     },
     "output_type": "display_data"
    }
   ],
   "source": [
    "Cmax = 10\n",
    "rcParams[\"figure.figsize\"] = 12,9\n",
    "for C in range(1,Cmax+1):\n",
    "    A     = matQ(lambda_s,mu,lambda_o,C).T\n",
    "    m,n   = A.shape\n",
    "    A     = vstack((A,ones(n))) # adding constraint sum(pi[i])=1\n",
    "    b     = zeros(m+1)\n",
    "    b[-1] = 1\n",
    "    # solves equations pi.Q=0 and normalization condition\n",
    "    pi_Q  = lstsq(A,b)[0] \n",
    "    P_s,P_o = blocking(pi_Q,C)\n",
    "    semilogy(C,P_s,'or')\n",
    "    semilogy(C,P_o,'og')\n",
    "semilogy(C,P_s,'or',label='subscribers')\n",
    "semilogy(C,P_o,'og',label='occasional')\n",
    "grid('on')\n",
    "legend(fontsize=20)\n",
    "xlabel('C',fontsize=20)\n",
    "ylabel('Blocking probability',fontsize=20)"
   ]
  },
  {
   "cell_type": "code",
   "execution_count": 9,
   "id": "eeecbd83",
   "metadata": {},
   "outputs": [
    {
     "name": "stdout",
     "output_type": "stream",
     "text": [
      "---------------------------\n",
      "RESULTS SUPPLIED FOR LAB 5:\n",
      "---------------------------\n",
      "V1 = 0.369\n",
      "V2 = 0.015\n",
      "V3 = 4.000\n",
      "V4 = 5.000\n",
      "V5 = 0.015\n",
      "V6 = 0.206\n"
     ]
    }
   ],
   "source": [
    "print(\"---------------------------\\n\"\n",
    "      +\"RESULTS SUPPLIED FOR LAB 5:\\n\"\n",
    "      +\"---------------------------\")\n",
    "results = (\"V\"+str(k) for k in range(1,7))\n",
    "for x in results:\n",
    "    try:\n",
    "        print(x+\" = {0:.3f}\".format(eval(x)))\n",
    "    except:\n",
    "        print(x+\": variable is undefined\")   "
   ]
  },
  {
   "cell_type": "code",
   "execution_count": null,
   "id": "ab58aad3",
   "metadata": {},
   "outputs": [],
   "source": []
  }
 ],
 "metadata": {
  "kernelspec": {
   "display_name": "Python 3 (ipykernel)",
   "language": "python",
   "name": "python3"
  },
  "language_info": {
   "codemirror_mode": {
    "name": "ipython",
    "version": 3
   },
   "file_extension": ".py",
   "mimetype": "text/x-python",
   "name": "python",
   "nbconvert_exporter": "python",
   "pygments_lexer": "ipython3",
   "version": "3.9.12"
  }
 },
 "nbformat": 4,
 "nbformat_minor": 5
}
